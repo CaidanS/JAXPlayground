{
  "nbformat": 4,
  "nbformat_minor": 0,
  "metadata": {
    "colab": {
      "name": "Monte.ipynb",
      "provenance": [],
      "collapsed_sections": [],
      "authorship_tag": "ABX9TyMj1OC8lzMxtabyQXhDGgTT",
      "include_colab_link": true
    },
    "kernelspec": {
      "name": "python3",
      "display_name": "Python 3"
    },
    "language_info": {
      "name": "python"
    }
  },
  "cells": [
    {
      "cell_type": "markdown",
      "metadata": {
        "id": "view-in-github",
        "colab_type": "text"
      },
      "source": [
        "<a href=\"https://colab.research.google.com/github/CaidanS/JAXPlayground/blob/main/Monte.ipynb\" target=\"_parent\"><img src=\"https://colab.research.google.com/assets/colab-badge.svg\" alt=\"Open In Colab\"/></a>"
      ]
    },
    {
      "cell_type": "code",
      "source": [
        "!pip install pymort\n",
        "import numpy as np\n",
        "from pymort import MortXML\n",
        "import matplotlib.pyplot as plt"
      ],
      "metadata": {
        "colab": {
          "base_uri": "https://localhost:8080/"
        },
        "id": "KVi_whHKTjgc",
        "outputId": "18e17c0d-29be-4be5-a5b4-be6d414dc6e5"
      },
      "execution_count": null,
      "outputs": [
        {
          "output_type": "stream",
          "name": "stdout",
          "text": [
            "Looking in indexes: https://pypi.org/simple, https://us-python.pkg.dev/colab-wheels/public/simple/\n",
            "Requirement already satisfied: pymort in /usr/local/lib/python3.7/dist-packages (0.5.0)\n",
            "Requirement already satisfied: pandas<2.0.0,>=1.3.4 in /usr/local/lib/python3.7/dist-packages (from pymort) (1.3.5)\n",
            "Requirement already satisfied: pytz>=2017.3 in /usr/local/lib/python3.7/dist-packages (from pandas<2.0.0,>=1.3.4->pymort) (2022.1)\n",
            "Requirement already satisfied: numpy>=1.17.3 in /usr/local/lib/python3.7/dist-packages (from pandas<2.0.0,>=1.3.4->pymort) (1.21.6)\n",
            "Requirement already satisfied: python-dateutil>=2.7.3 in /usr/local/lib/python3.7/dist-packages (from pandas<2.0.0,>=1.3.4->pymort) (2.8.2)\n",
            "Requirement already satisfied: six>=1.5 in /usr/local/lib/python3.7/dist-packages (from python-dateutil>=2.7.3->pandas<2.0.0,>=1.3.4->pymort) (1.15.0)\n"
          ]
        }
      ]
    },
    {
      "cell_type": "code",
      "source": [
        "class PolicyHolder:\n",
        "  def __init__(self, mortality_table, purchase_age):\n",
        "    self.mortality_table = mortality_table\n",
        "    self.purchase_age = purchase_age\n",
        "  \n",
        "  def retrieve_mortality(self, period):\n",
        "    return self.mortality_table[period + self.purchase_age]"
      ],
      "metadata": {
        "id": "qjKGZ-DSBfzS"
      },
      "execution_count": null,
      "outputs": []
    },
    {
      "cell_type": "code",
      "source": [
        "class SimulationInfo:\n",
        "  def __init__(self, final_period, total_payed, policy_holder, \\\n",
        "               initial_payment, duration, interest_rate) -> None:\n",
        "    self.final_period = final_period\n",
        "    self.total_payed = total_payed\n",
        "    self.policy_holder = policy_holder\n",
        "    self.initial_payment = initial_payment\n",
        "    self.duration = duration\n",
        "    self.interest_rate = interest_rate"
      ],
      "metadata": {
        "id": "ZHnfr5Q8y3tI"
      },
      "execution_count": null,
      "outputs": []
    },
    {
      "cell_type": "code",
      "execution_count": null,
      "metadata": {
        "id": "jBgs7Ovn_Gpj"
      },
      "outputs": [],
      "source": [
        "class AnnuityStream:\n",
        "  def __init__(self, policy_holder: PolicyHolder, initial_payment: float, \\\n",
        "               duration: int, interest_rate: float = 0.05) -> None:\n",
        "    self.policy_holder = policy_holder\n",
        "    self.balance = 0\n",
        "    self.per_period_payment = initial_payment/((1 - (1 + interest_rate)**(-duration))/interest_rate)\n",
        "    self.interest_rate = interest_rate\n",
        "    self.initial_payment = initial_payment\n",
        "    self.duration = duration\n",
        "\n",
        "  def simulate(self) -> SimulationInfo:\n",
        "    period = 0\n",
        "    while True:\n",
        "      if np.random.rand() > self.policy_holder.retrieve_mortality(period):\n",
        "        # Policy Holder is alive, payment must be made\n",
        "        self.balance += self.per_period_payment / (1 + self.interest_rate**(period+1))\n",
        "        period += 1\n",
        "      else:\n",
        "        # Policy Holder dies, payments should no longer be made\n",
        "        break\n",
        "    return SimulationInfo(final_period=period, \\\n",
        "                          total_payed=self.balance, \\\n",
        "                          policy_holder=self.policy_holder, \\\n",
        "                          initial_payment = self.initial_payment, \\\n",
        "                          duration = self.duration, \\\n",
        "                          interest_rate = self.interest_rate)"
      ]
    },
    {
      "cell_type": "code",
      "source": [
        "xml = MortXML(3279)\n",
        "ultimate = xml.Tables[1].Values.vals"
      ],
      "metadata": {
        "id": "RexwmnDCMv5o"
      },
      "execution_count": null,
      "outputs": []
    },
    {
      "cell_type": "code",
      "source": [
        "p = PolicyHolder(mortality_table=ultimate, purchase_age=20)\n",
        "a = AnnuityStream(p, initial_payment=1000, duration=50)"
      ],
      "metadata": {
        "id": "0v5iMj17Zl10"
      },
      "execution_count": null,
      "outputs": []
    },
    {
      "cell_type": "code",
      "source": [
        "streams = [AnnuityStream(p, 1000, 50).simulate().total_payed for i in range(1000)]"
      ],
      "metadata": {
        "id": "tt9CX9bhv3FF"
      },
      "execution_count": null,
      "outputs": []
    },
    {
      "cell_type": "code",
      "source": [
        "plt.hist(streams, bins=50)\n",
        "plt.show()"
      ],
      "metadata": {
        "colab": {
          "base_uri": "https://localhost:8080/",
          "height": 265
        },
        "id": "5RldpYJVxInz",
        "outputId": "dd3226b6-612f-4431-aa65-095bcbc14424"
      },
      "execution_count": null,
      "outputs": [
        {
          "output_type": "display_data",
          "data": {
            "text/plain": [
              "<Figure size 432x288 with 1 Axes>"
            ],
            "image/png": "[encoded data removed]"
          },
          "metadata": {
            "needs_background": "light"
          }
        }
      ]
    }
  ]
}